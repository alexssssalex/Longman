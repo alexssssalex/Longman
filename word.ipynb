{
  "cells": [
    {
      "cell_type": "code",
      "execution_count": 34,
      "metadata": {
        "collapsed": true,
        "pycharm": {
          "is_executing": false
        }
      },
      "outputs": [
        {
          "name": "stderr",
          "text": [
            "[nltk_data] Downloading package wordnet to\n[nltk_data]     C:\\Users\\Sokolov\\AppData\\Roaming\\nltk_data...\n[nltk_data]   Package wordnet is already up-to-date!\n[nltk_data] Downloading package punkt to\n[nltk_data]     C:\\Users\\Sokolov\\AppData\\Roaming\\nltk_data...\n[nltk_data]   Package punkt is already up-to-date!\n[nltk_data] Downloading package averaged_perceptron_tagger to\n[nltk_data]     C:\\Users\\Sokolov\\AppData\\Roaming\\nltk_data...\n",
            "[nltk_data]   Unzipping taggers\\averaged_perceptron_tagger.zip.\n"
          ],
          "output_type": "stream"
        }
      ],
      "source": "import nltk\nnltk.download(\u0027wordnet\u0027)\nnltk.download(\u0027punkt\u0027)\nnltk.download(\u0027averaged_perceptron_tagger\u0027)\nfrom nltk.stem import WordNetLemmatizer\nwordnet_lemmatizer \u003d WordNetLemmatizer()\nsentence \u003d \"He was running and eating at same time. He has bad habit of swimming after playing long hours in the Sun.\"\npunctuations\u003d\"?:!.,;\""
    },
    {
      "cell_type": "code",
      "execution_count": 51,
      "outputs": [
        {
          "name": "stdout",
          "text": [
            "He                  He                  \nwas                 be                  \nrunning             run                 \nand                 and                 \neating              eat                 \nat                  at                  \nsame                same                \ntime                time                \nHe                  He                  \nhas                 have                \nbad                 bad                 \nhabit               habit               \nof                  of                  \nswimming            swim                \nafter               after               \nplaying             play                \nlong                long                \nhours               hours               \nin                  in                  \nthe                 the                 \nSun                 Sun                 \n"
          ],
          "output_type": "stream"
        }
      ],
      "source": "sentence_words \u003d nltk.word_tokenize(sentence)\n\nfor word in sentence_words:\n    if word in punctuations:\n        sentence_words.remove(word)\n# sentence_words\n# print(\"{0:20}{1:20}\".format(\"Word\",\"Lemma\"))\n# wordnet_lemmatizer.lemmatize(\u0027ran\u0027,pos \u003d \u0027v\u0027)\n\nfor word in sentence_words:\n    print (\"{0:20}{1:20}\".format(word,wordnet_lemmatizer.lemmatize(word,\u0027v\u0027)))\n    # print (\"{0:20}{1:20}\".format(word,str(nltk.pos_tag([word]))))\n\n",
      "metadata": {
        "pycharm": {
          "metadata": false,
          "name": "#%%\n",
          "is_executing": false
        }
      }
    },
    {
      "cell_type": "code",
      "execution_count": 52,
      "outputs": [
        {
          "data": {
            "text/plain": "[(\u0027ofet\u0027, \u0027NN\u0027)]"
          },
          "metadata": {},
          "output_type": "execute_result",
          "execution_count": 52
        }
      ],
      "source": "nltk.pos_tag([\u0027ofet\u0027])\n\n",
      "metadata": {
        "pycharm": {
          "metadata": false,
          "name": "#%%\n",
          "is_executing": false
        }
      }
    },
    {
      "cell_type": "code",
      "execution_count": 2,
      "outputs": [
        {
          "name": "stderr",
          "text": [
            "[nltk_data] Downloading package words to\n[nltk_data]     C:\\Users\\Sokolov\\AppData\\Roaming\\nltk_data...\n[nltk_data]   Package words is already up-to-date!\n"
          ],
          "output_type": "stream"
        },
        {
          "data": {
            "text/plain": "[\u0027125\u0027,\n \u00271\u0027,\n \u0027best\u0027,\n \u0027run\u0027,\n \u0027run\u0027,\n \u0027eat\u0027,\n \u0027time\u0027,\n \u0027bad\u0027,\n \u0027habit\u0027,\n \u0027swimming\u0027,\n \u0027play\u0027,\n \u0027long\u0027,\n \u0027hour\u0027,\n \u0027sun\u0027]"
          },
          "metadata": {},
          "output_type": "execute_result",
          "execution_count": 2
        }
      ],
      "source": "sentence \u003d \"He he 125 1 .. he and she and they was best running running and eating at same time. He has bad habit of swimming after playing long hours in the Sun.\"\n\nsentence \u003d sentence.lower()\nimport nltk\nfrom nltk.corpus import words\nnltk.download(\u0027words\u0027)\n\nwords_dict \u003d set(words.words())\nimport spacy\nfrom collections import Counter\nnlp \u003d spacy.load(\u0027en\u0027, disable\u003d[\u0027parser\u0027, \u0027ner\u0027])\ndoc \u003d nlp(sentence)\n# \nx \u003d [ token.lemma_ for token in doc if not token.is_stop and not token.is_punct ]\nx",
      "metadata": {
        "pycharm": {
          "metadata": false,
          "name": "#%%\n",
          "is_executing": false
        }
      }
    },
    {
      "cell_type": "code",
      "execution_count": 3,
      "outputs": [
        {
          "data": {
            "text/plain": "Counter({\u00271\u0027: 1,\n         \u0027125\u0027: 1,\n         \u0027bad\u0027: 1,\n         \u0027best\u0027: 1,\n         \u0027eat\u0027: 1,\n         \u0027habit\u0027: 1,\n         \u0027hour\u0027: 1,\n         \u0027long\u0027: 1,\n         \u0027play\u0027: 1,\n         \u0027run\u0027: 2,\n         \u0027sun\u0027: 1,\n         \u0027swimming\u0027: 1,\n         \u0027time\u0027: 1})"
          },
          "metadata": {},
          "output_type": "execute_result",
          "execution_count": 3
        }
      ],
      "source": "y \u003d Counter(x)\ny",
      "metadata": {
        "pycharm": {
          "metadata": false,
          "name": "#%%\n",
          "is_executing": false
        }
      }
    },
    {
      "cell_type": "code",
      "execution_count": 4,
      "outputs": [
        {
          "data": {
            "text/plain": "(1, 2)"
          },
          "metadata": {},
          "output_type": "execute_result",
          "execution_count": 4
        }
      ],
      "source": "\nx \u003d [(1,2),(0,4)]\nmax(x)",
      "metadata": {
        "pycharm": {
          "metadata": false,
          "name": "#%%\n",
          "is_executing": false
        }
      }
    },
    {
      "cell_type": "code",
      "execution_count": 5,
      "outputs": [
        {
          "data": {
            "text/plain": "[(\u0027advice\u0027, \u0027NN\u0027)]"
          },
          "metadata": {},
          "output_type": "execute_result",
          "execution_count": 5
        }
      ],
      "source": "nltk.pos_tag([\u0027advice\u0027])",
      "metadata": {
        "pycharm": {
          "metadata": false,
          "name": "#%%\n",
          "is_executing": false
        }
      }
    },
    {
      "cell_type": "code",
      "execution_count": 9,
      "outputs": [],
      "source": "f\u003dopen(\u00271.txt\u0027)\ns \u003d f.read()\ns \u003d s.lower()\ns \u003d s.replace(\u0027\\r\u0027,\u0027 \u0027)\ns \u003d s.replace(\u0027\\n\u0027,\u0027 \u0027)\ns \u003d \u0027 \u0027.join(s.split())\ndoc \u003d nlp(s)\nx \u003d [token.lemma_ for token in doc if not token.is_stop and not token.is_punct and token.lemma_.isalpha() and token.lemma_ in words_dict  and len(token.lemma_)\u003e1]\ny \u003d Counter(x)\nz \u003d [(v,k) for k,v in y.items()]\nz.sort(reverse\u003dTrue)\nf \u003d open(\u00272.txt\u0027,\u0027w\u0027)\nfor v in z:\n    f.write(str(v)+\u0027\\n\u0027)\nf.close()\n\n# z",
      "metadata": {
        "pycharm": {
          "metadata": false,
          "name": "#%%\n",
          "is_executing": false
        }
      }
    },
    {
      "cell_type": "code",
      "execution_count": 88,
      "outputs": [
        {
          "name": "stderr",
          "text": [
            "[nltk_data] Downloading package words to\n[nltk_data]     C:\\Users\\Sokolov\\AppData\\Roaming\\nltk_data...",
            "\n",
            "[nltk_data]   Package words is already up-to-date!",
            "\n"
          ],
          "output_type": "stream"
        },
        {
          "data": {
            "text/plain": "False"
          },
          "metadata": {},
          "output_type": "execute_result",
          "execution_count": 88
        }
      ],
      "source": "\n\n",
      "metadata": {
        "pycharm": {
          "metadata": false,
          "name": "#%%\n",
          "is_executing": false
        }
      }
    }
  ],
  "metadata": {
    "language_info": {
      "codemirror_mode": {
        "name": "ipython",
        "version": 2
      },
      "file_extension": ".py",
      "mimetype": "text/x-python",
      "name": "python",
      "nbconvert_exporter": "python",
      "pygments_lexer": "ipython2",
      "version": "2.7.6"
    },
    "kernelspec": {
      "name": "python3",
      "language": "python",
      "display_name": "Python 3"
    },
    "stem_cell": {
      "cell_type": "raw",
      "source": "import nltk\nfrom nltk.stem import WordNetLemmatizer\nwordnet_lemmatizer \u003d WordNetLemmatizer()\n\nsentence \u003d \"He was running and eating at same time. He has bad habit of swimming after playing long hours in the Sun.\"\npunctuations\u003d\"?:!.,;\"\nsentence_words \u003d nltk.word_tokenize(sentence)\nfor word in sentence_words:\n    if word in punctuations:\n        sentence_words.remove(word)\n\nsentence_words\nprint(\"{0:20}{1:20}\".format(\"Word\",\"Lemma\"))\nfor word in sentence_words:\n    print (\"{0:20}{1:20}\".format(word,wordnet_lemmatizer.lemmatize(word)))\n\n",
      "metadata": {
        "pycharm": {
          "metadata": false
        }
      }
    }
  },
  "nbformat": 4,
  "nbformat_minor": 0
}