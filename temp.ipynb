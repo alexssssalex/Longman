{
  "cells": [
    {
      "cell_type": "code",
      "execution_count": 2,
      "metadata": {
        "collapsed": true,
        "pycharm": {
          "is_executing": false
        }
      },
      "outputs": [],
      "source": "import os"
    },
    {
      "cell_type": "code",
      "execution_count": 6,
      "outputs": [
        {
          "data": {
            "text/plain": "[\u00271 - Copy.txt\u0027, \u00271.txt\u0027]"
          },
          "metadata": {},
          "output_type": "execute_result",
          "execution_count": 6
        }
      ],
      "source": "DIR_BOOK \u003d \u0027./input_data/book\u0027\nos.listdir(\u0027./input_data/book\u0027)",
      "metadata": {
        "pycharm": {
          "metadata": false,
          "name": "#%%\n",
          "is_executing": false
        }
      }
    },
    {
      "cell_type": "code",
      "execution_count": 8,
      "outputs": [
        {
          "data": {
            "text/plain": "[\u00271 - Copy.txt\u0027, \u00271.txt\u0027]"
          },
          "metadata": {},
          "output_type": "execute_result",
          "execution_count": 8
        }
      ],
      "source": "onlyfiles \u003d [f for f in os.listdir(DIR_BOOK) if os.path.isfile(os.path.join(DIR_BOOK, f))]\nonlyfiles",
      "metadata": {
        "pycharm": {
          "metadata": false,
          "name": "#%%\n",
          "is_executing": false
        }
      }
    },
    {
      "cell_type": "code",
      "execution_count": 17,
      "outputs": [
        {
          "data": {
            "text/plain": "[1, 2, 3, 1, 2, 3]"
          },
          "metadata": {},
          "output_type": "execute_result",
          "execution_count": 17
        }
      ],
      "source": "x \u003d [1,2,3]\nx.extend([1,2,3])\nx",
      "metadata": {
        "pycharm": {
          "metadata": false,
          "name": "#%%\n",
          "is_executing": false
        }
      }
    },
    {
      "cell_type": "code",
      "execution_count": 28,
      "outputs": [
        {
          "data": {
            "text/plain": "[\u0027sasa\u0027]"
          },
          "metadata": {},
          "output_type": "execute_result",
          "execution_count": 28
        }
      ],
      "source": "x \u003d [\u0027ёsasa\u0027, \u0027sasa\u0027]\ny \u003d list(filter(lambda x: all([ord(c)\u003c128 for c in x]),x))\ny",
      "metadata": {
        "pycharm": {
          "metadata": false,
          "name": "#%%\n",
          "is_executing": false
        }
      }
    },
    {
      "cell_type": "code",
      "execution_count": 2,
      "outputs": [
        {
          "name": "stderr",
          "text": [
            "[nltk_data] Downloading package words to\n[nltk_data]     C:\\Users\\Sokolov\\AppData\\Roaming\\nltk_data...\n[nltk_data]   Package words is already up-to-date!\n"
          ],
          "output_type": "stream"
        }
      ],
      "source": "import auxulary.auxilary as aux",
      "metadata": {
        "pycharm": {
          "metadata": false,
          "name": "#%%\n",
          "is_executing": false
        }
      }
    },
    {
      "cell_type": "code",
      "execution_count": 3,
      "outputs": [
        {
          "data": {
            "text/plain": "{\u0027aaaaa\u0027,\n \u0027asas\u0027,\n \u0027asss\u0027,\n \u0027aux\u0027,\n \u0027be\u0027,\n \u0027data\u0027,\n \u0027dfh\u0027,\n \u0027do\u0027,\n \u0027kni\u0027,\n \u0027sas\u0027,\n \u0027was\u0027}"
          },
          "metadata": {},
          "output_type": "execute_result",
          "execution_count": 3
        }
      ],
      "source": "aux.read_arrange(\u0027./data_base/words.txt\u0027)",
      "metadata": {
        "pycharm": {
          "metadata": false,
          "name": "#%%\n",
          "is_executing": false
        }
      }
    },
    {
      "cell_type": "code",
      "execution_count": 6,
      "outputs": [
        {
          "data": {
            "text/plain": "\u0027game of thrones, A - George Martin.txt\u0027"
          },
          "metadata": {},
          "output_type": "execute_result",
          "execution_count": 6
        }
      ],
      "source": "import os\nDIR_BOOK \u003d \u0027./input_data/sources\u0027\nbooks \u003d [os.path.join(DIR_BOOK, f) for f in os.listdir(DIR_BOOK) if os.path.isfile(os.path.join(DIR_BOOK, f))]\nos.path.basename(books[0])\n",
      "metadata": {
        "pycharm": {
          "metadata": false,
          "name": "#%%\n",
          "is_executing": false
        }
      }
    },
    {
      "cell_type": "code",
      "execution_count": 33,
      "outputs": [
        {
          "data": {
            "text/plain": "[\u0027df\u0027, \u0027ggh.o\u0027, \u0027ss\u0027, \u0027ss\u0027]"
          },
          "metadata": {},
          "output_type": "execute_result",
          "execution_count": 33
        }
      ],
      "source": "\u0027df\\rggh.o\\nss\\tss\\n\\n \\r  \\n  \\n\u0027.split()",
      "metadata": {
        "pycharm": {
          "metadata": false,
          "name": "#%%\n",
          "is_executing": false
        }
      }
    },
    {
      "cell_type": "code",
      "execution_count": 44,
      "outputs": [
        {
          "data": {
            "text/plain": "[(1, 2), (40, 5), (0, 10)]"
          },
          "metadata": {},
          "output_type": "execute_result",
          "execution_count": 44
        }
      ],
      "source": "x \u003d {1,2}\nx.update([\u0027sdf\u0027,20])\ny \u003d [(1,2),(0,10),(40,5)]\nsorted(y, key \u003d lambda x: x[1])",
      "metadata": {
        "pycharm": {
          "metadata": false,
          "name": "#%%\n",
          "is_executing": false
        }
      }
    },
    {
      "cell_type": "code",
      "execution_count": 45,
      "outputs": [
        {
          "data": {
            "text/plain": "[(1, 2), (0, 10), (40, 5)]"
          },
          "metadata": {},
          "output_type": "execute_result",
          "execution_count": 45
        }
      ],
      "source": "y",
      "metadata": {
        "pycharm": {
          "metadata": false,
          "name": "#%%\n",
          "is_executing": false
        }
      }
    },
    {
      "cell_type": "code",
      "execution_count": null,
      "outputs": [],
      "source": "\n",
      "metadata": {
        "pycharm": {
          "metadata": false,
          "name": "#%%\n"
        }
      }
    }
  ],
  "metadata": {
    "language_info": {
      "codemirror_mode": {
        "name": "ipython",
        "version": 2
      },
      "file_extension": ".py",
      "mimetype": "text/x-python",
      "name": "python",
      "nbconvert_exporter": "python",
      "pygments_lexer": "ipython2",
      "version": "2.7.6"
    },
    "kernelspec": {
      "name": "python3",
      "language": "python",
      "display_name": "Python 3"
    }
  },
  "nbformat": 4,
  "nbformat_minor": 0
}